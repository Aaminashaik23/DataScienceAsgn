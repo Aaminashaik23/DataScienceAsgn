{
 "cells": [
  {
   "cell_type": "code",
   "execution_count": 1,
   "id": "a148e081",
   "metadata": {},
   "outputs": [],
   "source": [
    "import pandas as pd\n",
    "df= pd.read_csv('../raw_data/question1.csv')\n",
    "df.rename(columns = {'Height(Inches)':'Height_Inches',\n",
    "                     'Weight(Pounds)':'Weight_Pounds', 'Age':'Age', \n",
    "                       'Grip Strength':'Grip_Strength',\n",
    "                       'frailty':'frailty'\n",
    "                        }, inplace = True)\n",
    "df.to_csv('../clean_data/question1.csv')"
   ]
  },
  {
   "cell_type": "code",
   "execution_count": null,
   "id": "c6caf5e6",
   "metadata": {},
   "outputs": [],
   "source": []
  }
 ],
 "metadata": {
  "kernelspec": {
   "display_name": "Python 3",
   "language": "python",
   "name": "python3"
  },
  "language_info": {
   "codemirror_mode": {
    "name": "ipython",
    "version": 3
   },
   "file_extension": ".py",
   "mimetype": "text/x-python",
   "name": "python",
   "nbconvert_exporter": "python",
   "pygments_lexer": "ipython3",
   "version": "3.8.8"
  }
 },
 "nbformat": 4,
 "nbformat_minor": 5
}
