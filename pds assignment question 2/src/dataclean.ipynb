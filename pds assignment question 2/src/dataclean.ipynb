{
 "cells": [
  {
   "cell_type": "code",
   "execution_count": 4,
   "id": "94f88ada",
   "metadata": {},
   "outputs": [],
   "source": [
    "import pandas as pd\n",
    "df= pd.read_csv('../raw_data/NewStudentsPerformance.csv')\n",
    "df.rename(columns = {'race/ethnicity':'race_ethnicity',\n",
    "                     'parental level of education':'parental_level_of_education',\n",
    "    'test preparation course':'test_preparation_course', \n",
    "                       'math score':'math_score',\n",
    "                       'reading score':'reading_score',\n",
    "                        'writing score':'writing_score'}, inplace = True)\n",
    "df.to_csv('../clean_data/NewStudentsPerformance.csv')"
   ]
  },
  {
   "cell_type": "code",
   "execution_count": null,
   "id": "e7d00ad6",
   "metadata": {},
   "outputs": [],
   "source": []
  },
  {
   "cell_type": "code",
   "execution_count": null,
   "id": "724fe84e",
   "metadata": {},
   "outputs": [],
   "source": []
  }
 ],
 "metadata": {
  "kernelspec": {
   "display_name": "Python 3",
   "language": "python",
   "name": "python3"
  },
  "language_info": {
   "codemirror_mode": {
    "name": "ipython",
    "version": 3
   },
   "file_extension": ".py",
   "mimetype": "text/x-python",
   "name": "python",
   "nbconvert_exporter": "python",
   "pygments_lexer": "ipython3",
   "version": "3.8.8"
  }
 },
 "nbformat": 4,
 "nbformat_minor": 5
}
